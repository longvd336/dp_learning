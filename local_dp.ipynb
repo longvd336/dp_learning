{
 "cells": [
  {
   "cell_type": "code",
   "execution_count": 1,
   "id": "60c6e36c",
   "metadata": {},
   "outputs": [],
   "source": [
    "## normaly, the centralize DP -> perturbing the outcomes of the Algorithms\n",
    "## LDP -> assume that the analyst is malicious but have a trusted data curator or not =)) so you may made your data DP before send it\n",
    "## LDP has a significant drawnback:\n",
    "## accuracy of query results in the local model is typically orders of magnitude lower for the same amount of the privacy cost (epsilon)"
   ]
  },
  {
   "cell_type": "code",
   "execution_count": 2,
   "id": "7a27736d",
   "metadata": {},
   "outputs": [],
   "source": [
    "## The RR is based on fliping two independent coins => getting the uncertainty of the true answer\n",
    "import numpy as np\n",
    "\n",
    "def rand_resp_sales(response):\n",
    "    truthful_response = response == 'Sales'\n",
    "    # first coin flip\n",
    "    if np.random.randint(0, 2) == 0:\n",
    "        # answer truthfully\n",
    "        return truthful_response\n",
    "    else:\n",
    "        # answer randomly (second coin flip)\n",
    "        return np.random.randint(0, 2) == 0\n"
   ]
  },
  {
   "cell_type": "code",
   "execution_count": 4,
   "id": "bf54c944",
   "metadata": {},
   "outputs": [
    {
     "data": {
      "text/plain": [
       "True     147\n",
       "False     53\n",
       "dtype: int64"
      ]
     },
     "execution_count": 4,
     "metadata": {},
     "output_type": "execute_result"
    }
   ],
   "source": [
    "## ask 200 people who do work in sales to respond using randomized response and look at the results\n",
    "import pandas as pd\n",
    "\n",
    "pd.Series([rand_resp_sales('Sales') for i in range(200)]).value_counts()"
   ]
  },
  {
   "cell_type": "code",
   "execution_count": 5,
   "id": "addb79c5",
   "metadata": {},
   "outputs": [
    {
     "data": {
      "text/html": [
       "<div>\n",
       "<style scoped>\n",
       "    .dataframe tbody tr th:only-of-type {\n",
       "        vertical-align: middle;\n",
       "    }\n",
       "\n",
       "    .dataframe tbody tr th {\n",
       "        vertical-align: top;\n",
       "    }\n",
       "\n",
       "    .dataframe thead th {\n",
       "        text-align: right;\n",
       "    }\n",
       "</style>\n",
       "<table border=\"1\" class=\"dataframe\">\n",
       "  <thead>\n",
       "    <tr style=\"text-align: right;\">\n",
       "      <th></th>\n",
       "      <th>Name</th>\n",
       "      <th>DOB</th>\n",
       "      <th>SSN</th>\n",
       "      <th>Zip</th>\n",
       "      <th>Workclass</th>\n",
       "      <th>Education</th>\n",
       "      <th>Education-Num</th>\n",
       "      <th>Marital Status</th>\n",
       "      <th>Occupation</th>\n",
       "      <th>Relationship</th>\n",
       "      <th>Race</th>\n",
       "      <th>Sex</th>\n",
       "      <th>Hours per week</th>\n",
       "      <th>Country</th>\n",
       "      <th>Target</th>\n",
       "      <th>Age</th>\n",
       "      <th>Capital Gain</th>\n",
       "      <th>Capital Loss</th>\n",
       "    </tr>\n",
       "  </thead>\n",
       "  <tbody>\n",
       "    <tr>\n",
       "      <th>0</th>\n",
       "      <td>Karrie Trusslove</td>\n",
       "      <td>9/7/1967</td>\n",
       "      <td>732-14-6110</td>\n",
       "      <td>64152</td>\n",
       "      <td>State-gov</td>\n",
       "      <td>Bachelors</td>\n",
       "      <td>13</td>\n",
       "      <td>Never-married</td>\n",
       "      <td>Adm-clerical</td>\n",
       "      <td>Not-in-family</td>\n",
       "      <td>White</td>\n",
       "      <td>Male</td>\n",
       "      <td>40</td>\n",
       "      <td>United-States</td>\n",
       "      <td>&lt;=50K</td>\n",
       "      <td>56</td>\n",
       "      <td>2174</td>\n",
       "      <td>0</td>\n",
       "    </tr>\n",
       "    <tr>\n",
       "      <th>1</th>\n",
       "      <td>Brandise Tripony</td>\n",
       "      <td>6/7/1988</td>\n",
       "      <td>150-19-2766</td>\n",
       "      <td>61523</td>\n",
       "      <td>Self-emp-not-inc</td>\n",
       "      <td>Bachelors</td>\n",
       "      <td>13</td>\n",
       "      <td>Married-civ-spouse</td>\n",
       "      <td>Exec-managerial</td>\n",
       "      <td>Husband</td>\n",
       "      <td>White</td>\n",
       "      <td>Male</td>\n",
       "      <td>13</td>\n",
       "      <td>United-States</td>\n",
       "      <td>&lt;=50K</td>\n",
       "      <td>35</td>\n",
       "      <td>0</td>\n",
       "      <td>0</td>\n",
       "    </tr>\n",
       "    <tr>\n",
       "      <th>2</th>\n",
       "      <td>Brenn McNeely</td>\n",
       "      <td>8/6/1991</td>\n",
       "      <td>725-59-9860</td>\n",
       "      <td>95668</td>\n",
       "      <td>Private</td>\n",
       "      <td>HS-grad</td>\n",
       "      <td>9</td>\n",
       "      <td>Divorced</td>\n",
       "      <td>Handlers-cleaners</td>\n",
       "      <td>Not-in-family</td>\n",
       "      <td>White</td>\n",
       "      <td>Male</td>\n",
       "      <td>40</td>\n",
       "      <td>United-States</td>\n",
       "      <td>&lt;=50K</td>\n",
       "      <td>32</td>\n",
       "      <td>0</td>\n",
       "      <td>0</td>\n",
       "    </tr>\n",
       "    <tr>\n",
       "      <th>3</th>\n",
       "      <td>Dorry Poter</td>\n",
       "      <td>4/6/2009</td>\n",
       "      <td>659-57-4974</td>\n",
       "      <td>25503</td>\n",
       "      <td>Private</td>\n",
       "      <td>11th</td>\n",
       "      <td>7</td>\n",
       "      <td>Married-civ-spouse</td>\n",
       "      <td>Handlers-cleaners</td>\n",
       "      <td>Husband</td>\n",
       "      <td>Black</td>\n",
       "      <td>Male</td>\n",
       "      <td>40</td>\n",
       "      <td>United-States</td>\n",
       "      <td>&lt;=50K</td>\n",
       "      <td>14</td>\n",
       "      <td>0</td>\n",
       "      <td>0</td>\n",
       "    </tr>\n",
       "    <tr>\n",
       "      <th>4</th>\n",
       "      <td>Dick Honnan</td>\n",
       "      <td>9/16/1951</td>\n",
       "      <td>220-93-3811</td>\n",
       "      <td>75387</td>\n",
       "      <td>Private</td>\n",
       "      <td>Bachelors</td>\n",
       "      <td>13</td>\n",
       "      <td>Married-civ-spouse</td>\n",
       "      <td>Prof-specialty</td>\n",
       "      <td>Wife</td>\n",
       "      <td>Black</td>\n",
       "      <td>Female</td>\n",
       "      <td>40</td>\n",
       "      <td>Cuba</td>\n",
       "      <td>&lt;=50K</td>\n",
       "      <td>72</td>\n",
       "      <td>0</td>\n",
       "      <td>0</td>\n",
       "    </tr>\n",
       "  </tbody>\n",
       "</table>\n",
       "</div>"
      ],
      "text/plain": [
       "               Name        DOB          SSN    Zip         Workclass  \\\n",
       "0  Karrie Trusslove   9/7/1967  732-14-6110  64152         State-gov   \n",
       "1  Brandise Tripony   6/7/1988  150-19-2766  61523  Self-emp-not-inc   \n",
       "2     Brenn McNeely   8/6/1991  725-59-9860  95668           Private   \n",
       "3       Dorry Poter   4/6/2009  659-57-4974  25503           Private   \n",
       "4       Dick Honnan  9/16/1951  220-93-3811  75387           Private   \n",
       "\n",
       "   Education  Education-Num      Marital Status         Occupation  \\\n",
       "0  Bachelors             13       Never-married       Adm-clerical   \n",
       "1  Bachelors             13  Married-civ-spouse    Exec-managerial   \n",
       "2    HS-grad              9            Divorced  Handlers-cleaners   \n",
       "3       11th              7  Married-civ-spouse  Handlers-cleaners   \n",
       "4  Bachelors             13  Married-civ-spouse     Prof-specialty   \n",
       "\n",
       "    Relationship   Race     Sex  Hours per week        Country Target  Age  \\\n",
       "0  Not-in-family  White    Male              40  United-States  <=50K   56   \n",
       "1        Husband  White    Male              13  United-States  <=50K   35   \n",
       "2  Not-in-family  White    Male              40  United-States  <=50K   32   \n",
       "3        Husband  Black    Male              40  United-States  <=50K   14   \n",
       "4           Wife  Black  Female              40           Cuba  <=50K   72   \n",
       "\n",
       "   Capital Gain  Capital Loss  \n",
       "0          2174             0  \n",
       "1             0             0  \n",
       "2             0             0  \n",
       "3             0             0  \n",
       "4             0             0  "
      ]
     },
     "execution_count": 5,
     "metadata": {},
     "output_type": "execute_result"
    }
   ],
   "source": [
    "import matplotlib.pyplot as plt\n",
    "adult = pd.read_csv(\"adult_with_pii.csv\")\n",
    "adult.head()"
   ]
  },
  {
   "cell_type": "code",
   "execution_count": 6,
   "id": "3e363b2d",
   "metadata": {},
   "outputs": [
    {
     "data": {
      "text/plain": [
       "False    22649\n",
       "True      9914\n",
       "dtype: int64"
      ]
     },
     "execution_count": 6,
     "metadata": {},
     "output_type": "execute_result"
    }
   ],
   "source": [
    "# In the real system => each respondant run the rand_resp locally and submit their RR to the data curator \n",
    "\n",
    "responses = [rand_resp_sales(r) for r in adult['Occupation']]\n",
    "pd.Series(responses).value_counts()"
   ]
  },
  {
   "cell_type": "code",
   "execution_count": 19,
   "id": "af38a0f1",
   "metadata": {},
   "outputs": [
    {
     "data": {
      "text/plain": [
       "3650"
      ]
     },
     "execution_count": 19,
     "metadata": {},
     "output_type": "execute_result"
    }
   ],
   "source": [
    "## How to estimate the actual number of salespeople in the dataset\n",
    "len(adult[adult[\"Occupation\"] == \"Sales\"])"
   ]
  },
  {
   "cell_type": "code",
   "execution_count": 20,
   "id": "611b05ed",
   "metadata": {},
   "outputs": [],
   "source": [
    "## => the RR is still true but it does not reveal a lot information about the data, just for statistical result we can see the\n",
    "## data\n",
    "\n",
    "## To get the true number of salespeople, we need to analyze the randomnes in the randomized response algorithm\n",
    "## and estimate how many time the \"yes\" response from the true salespeople\n",
    "\n",
    "## prob 1/2 the respondant responds randomly => then prob 1/2 random response is a \"yes\"\n",
    "## => the prob that a respondant reponds yes bby random change rather than bcs they are a salesperson is 1/2*1/2 => we may expect the\n",
    "## 1/4 of total response to be \"fake yes\"\n",
    "\n",
    "responses = [rand_resp_sales(r) for r in adult['Occupation']]\n",
    "# we expect 1/4 of the responses to be \"yes\" based entirely on the coin flip\n",
    "# these are \"fake\" yesses\n",
    "fake_yesses = len(responses)/4\n",
    "# the total number of yesses recorded\n",
    "num_yesses = np.sum([1 if r else 0 for r in responses])\n",
    "# the number of \"real\" yesses is the total number of yesses minus the fake yesses\n",
    "true_yesses = num_yesses - fake_yesses"
   ]
  },
  {
   "cell_type": "code",
   "execution_count": 26,
   "id": "ea0a5adf",
   "metadata": {},
   "outputs": [
    {
     "data": {
      "text/plain": [
       "1767.25"
      ]
     },
     "execution_count": 26,
     "metadata": {},
     "output_type": "execute_result"
    }
   ],
   "source": [
    "true_yesses"
   ]
  },
  {
   "cell_type": "code",
   "execution_count": 27,
   "id": "a3eb7247",
   "metadata": {},
   "outputs": [
    {
     "data": {
      "text/plain": [
       "3534.5"
      ]
     },
     "execution_count": 27,
     "metadata": {},
     "output_type": "execute_result"
    }
   ],
   "source": [
    "## Since we split the respondants into \"truth\" and \"random\" groups randomly (by the first flip of coin) => we can hope that\n",
    "## there are roughly the same number of salespeople in both groups.\n",
    "# true_yesses estimates the total number of yesses in the \"truth\" group\n",
    "# we estimate the total number of yesses for both groups by doubling\n",
    "rr_result = true_yesses*2\n",
    "rr_result"
   ]
  },
  {
   "cell_type": "code",
   "execution_count": 28,
   "id": "faa0f859",
   "metadata": {},
   "outputs": [
    {
     "data": {
      "text/plain": [
       "3650"
      ]
     },
     "execution_count": 28,
     "metadata": {},
     "output_type": "execute_result"
    }
   ],
   "source": [
    "true_result = np.sum(adult['Occupation'] == 'Sales')\n",
    "true_result\n"
   ]
  },
  {
   "cell_type": "code",
   "execution_count": null,
   "id": "e55c5639",
   "metadata": {},
   "outputs": [],
   "source": [
    "## We can see that the rr_result & the true result almost the same"
   ]
  }
 ],
 "metadata": {
  "kernelspec": {
   "display_name": "Python 3 (ipykernel)",
   "language": "python",
   "name": "python3"
  },
  "language_info": {
   "codemirror_mode": {
    "name": "ipython",
    "version": 3
   },
   "file_extension": ".py",
   "mimetype": "text/x-python",
   "name": "python",
   "nbconvert_exporter": "python",
   "pygments_lexer": "ipython3",
   "version": "3.9.13"
  }
 },
 "nbformat": 4,
 "nbformat_minor": 5
}
